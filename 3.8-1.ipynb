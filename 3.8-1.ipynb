{
 "cells": [
  {
   "cell_type": "code",
   "execution_count": 3,
   "id": "e1db87ee",
   "metadata": {},
   "outputs": [
    {
     "data": {
      "text/plain": [
       "dict_keys(['data', 'target', 'frame', 'categories', 'feature_names', 'target_names', 'DESCR', 'details', 'url'])"
      ]
     },
     "execution_count": 3,
     "metadata": {},
     "output_type": "execute_result"
    }
   ],
   "source": [
    "import matplotlib as mpl\n",
    "import matplotlib.pyplot as plt\n",
    "import numpy as np\n",
    "import pandas as pd\n",
    "import os\n",
    "\n",
    "from sklearn.datasets import fetch_openml\n",
    "from sklearn.neighbors import KNeighborsClassifier\n",
    "from sklearn.model_selection import GridSearchCV\n",
    "\n",
    "mnist = fetch_openml('mnist_784', version=1, as_frame=False)\n",
    "mnist.keys()"
   ]
  },
  {
   "cell_type": "code",
   "execution_count": 4,
   "id": "f71cf0d8",
   "metadata": {},
   "outputs": [],
   "source": [
    "X,y=mnist[\"data\"], mnist[\"target\"]"
   ]
  },
  {
   "cell_type": "code",
   "execution_count": 5,
   "id": "fcb12ddd",
   "metadata": {},
   "outputs": [],
   "source": [
    "X_train, X_test, y_train, y_test = X[:60000], X[60000:], y[:60000], y[60000:]"
   ]
  },
  {
   "cell_type": "code",
   "execution_count": 6,
   "id": "48aa4d4c",
   "metadata": {},
   "outputs": [
    {
     "data": {
      "image/png": "[encoded data removed]",
      "text/plain": [
       "<Figure size 640x480 with 1 Axes>"
      ]
     },
     "metadata": {},
     "output_type": "display_data"
    }
   ],
   "source": [
    "some_digit = X[7000]\n",
    "some_digit_image = some_digit.reshape(28,28)\n",
    "\n",
    "plt.imshow(some_digit_image, cmap=\"binary\")\n",
    "plt.axis(\"off\")\n",
    "plt.show()"
   ]
  },
  {
   "cell_type": "code",
   "execution_count": null,
   "id": "002a6fa7",
   "metadata": {},
   "outputs": [],
   "source": [
    "knn_clf = KNeighborsClassifier(weights='distance', n_neighbors=4)\n",
    "\"\"\"param_grid = [{'weights': ['distance', 'uniform'],'n_neighbors':[4,5]}]\n",
    "grid_search = GridSearchCV(knn_clf, param_grid, cv=5,\n",
    "                          scoring='neg_mean_squared_error',\n",
    "                          return_train_score=True)\n",
    "grid_search.best_params_\"\"\"\n",
    "\n",
    "grid_search.fit(X_train, y_train)"
   ]
  },
  {
   "cell_type": "code",
   "execution_count": null,
   "id": "cd9bb178",
   "metadata": {},
   "outputs": [],
   "source": [
    "from sklearn.metrics import accuracy_score\n",
    "\n",
    "y_pred = grid_search.predict(X_test)\n",
    "accuracy_score(y_test, y_pred)"
   ]
  },
  {
   "cell_type": "code",
   "execution_count": 10,
   "id": "8090653f",
   "metadata": {},
   "outputs": [
    {
     "name": "stdout",
     "output_type": "stream",
     "text": [
      "0.9704\n",
      "0.9693\n",
      "0.96715\n"
     ]
    }
   ],
   "source": [
    "from sklearn.model_selection import StratifiedKFold\n",
    "from sklearn.base import clone\n",
    "\n",
    "skfolds = StratifiedKFold(n_splits=3, random_state=42, shuffle=True)\n",
    "\n",
    "for train_index, test_index in skfolds.split(X_train, y_train):\n",
    "    clone_clf = clone(knn_clf)\n",
    "    X_train_folds = X_train[train_index]\n",
    "    y_train_folds = y_train[train_index]\n",
    "    X_test_fold = X_train[test_index]\n",
    "    y_test_fold = y_train[test_index]\n",
    "    \n",
    "    clone_clf.fit(X_train_folds, y_train_folds)\n",
    "    y_pred = clone_clf.predict(X_test_fold)\n",
    "    n_correct = sum(y_pred == y_test_fold)\n",
    "    print(n_correct / len(y_pred))"
   ]
  },
  {
   "cell_type": "code",
   "execution_count": 12,
   "id": "3d38aae1",
   "metadata": {},
   "outputs": [
    {
     "data": {
      "text/plain": [
       "array([[5882,    4,    5,    0,    1,    5,   19,    1,    2,    4],\n",
       "       [   2, 6705,   10,    2,    1,    1,    3,   11,    2,    5],\n",
       "       [  51,   60, 5695,   15,   11,    4,    9,   87,   17,    9],\n",
       "       [   8,   16,   39, 5903,    1,   63,    4,   40,   33,   24],\n",
       "       [   3,   53,    1,    1, 5628,    0,   13,   11,    2,  130],\n",
       "       [  14,   18,    4,   67,    6, 5211,   58,    7,   11,   25],\n",
       "       [  24,   13,    1,    0,    5,   27, 5846,    0,    2,    0],\n",
       "       [   4,   68,   14,    3,   20,    1,    0, 6083,    3,   69],\n",
       "       [  25,   85,   15,   87,   35,  111,   26,   19, 5382,   66],\n",
       "       [  19,   13,    5,   45,   46,   12,    5,   79,   15, 5710]],\n",
       "      dtype=int64)"
      ]
     },
     "execution_count": 12,
     "metadata": {},
     "output_type": "execute_result"
    }
   ],
   "source": [
    "from sklearn.model_selection import cross_val_predict\n",
    "\n",
    "y_train_pred = cross_val_predict(knn_clf, X_train, y_train, cv=3)\n",
    "\n",
    "from sklearn.metrics import confusion_matrix\n",
    "\n",
    "confusion_matrix(y_train, y_train_pred)"
   ]
  },
  {
   "cell_type": "code",
   "execution_count": 45,
   "id": "ea529ae2",
   "metadata": {},
   "outputs": [
    {
     "name": "stderr",
     "output_type": "stream",
     "text": [
      "C:\\Users\\hogeon\\AppData\\Local\\Temp\\ipykernel_19332\\889560895.py:1: DeprecationWarning: Please use `shift` from the `scipy.ndimage` namespace, the `scipy.ndimage.interpolation` namespace is deprecated.\n",
      "  from scipy.ndimage.interpolation import shift\n"
     ]
    }
   ],
   "source": [
    "from scipy.ndimage.interpolation import shift\n",
    "img = X_train[1].reshape((28,28))\n",
    "\n",
    "def shift_image(image, dx, dy):\n",
    "    \n",
    "    image = image.reshape((28,28))\n",
    "    shifted_image = shift(image, [dy,dx], cval=0, mode=\"constant\")\n",
    "    \n",
    "    return shifted_image.reshape([-1])"
   ]
  },
  {
   "cell_type": "code",
   "execution_count": 46,
   "id": "485b93c1",
   "metadata": {},
   "outputs": [
    {
     "data": {
      "image/png": "[encoded data removed]",
      "text/plain": [
       "<Figure size 1200x300 with 3 Axes>"
      ]
     },
     "metadata": {},
     "output_type": "display_data"
    }
   ],
   "source": [
    "image = X_train[700]\n",
    "shifted_image_down = shift_image(image, 0, 5)\n",
    "shifted_image_left = shift_image(image, -5, 0)\n",
    "\n",
    "plt.figure(figsize=(12,3))\n",
    "plt.subplot(131)\n",
    "plt.title(\"Original\", fontsize=14)\n",
    "plt.imshow(image.reshape(28,28), interpolation=\"nearest\", cmap=\"Greys\")\n",
    "plt.subplot(132)\n",
    "plt.title(\"Shifted down\", fontsize=14)\n",
    "plt.imshow(shifted_image_down.reshape(28,28), interpolation=\"nearest\", cmap=\"Greys\")\n",
    "plt.subplot(133)\n",
    "plt.title(\"Shifted left\", fontsize=14)\n",
    "plt.imshow(shifted_image_left.reshape(28, 28), interpolation=\"nearest\", cmap=\"Greys\")\n",
    "plt.show()"
   ]
  },
  {
   "cell_type": "code",
   "execution_count": 47,
   "id": "a22047f5",
   "metadata": {},
   "outputs": [
    {
     "name": "stdout",
     "output_type": "stream",
     "text": [
      "[ 0.00000000e+00  0.00000000e+00  0.00000000e+00  0.00000000e+00\n",
      "  0.00000000e+00  0.00000000e+00  0.00000000e+00  0.00000000e+00\n",
      "  0.00000000e+00  0.00000000e+00  0.00000000e+00  0.00000000e+00\n",
      "  0.00000000e+00  0.00000000e+00  0.00000000e+00  0.00000000e+00\n",
      "  0.00000000e+00  0.00000000e+00  0.00000000e+00  0.00000000e+00\n",
      "  0.00000000e+00  0.00000000e+00  0.00000000e+00  0.00000000e+00\n",
      "  0.00000000e+00  0.00000000e+00  0.00000000e+00  0.00000000e+00\n",
      "  0.00000000e+00  0.00000000e+00  0.00000000e+00  0.00000000e+00\n",
      "  0.00000000e+00  0.00000000e+00  0.00000000e+00  0.00000000e+00\n",
      "  0.00000000e+00  0.00000000e+00  0.00000000e+00  0.00000000e+00\n",
      "  0.00000000e+00  0.00000000e+00  0.00000000e+00  0.00000000e+00\n",
      "  0.00000000e+00  0.00000000e+00  0.00000000e+00  0.00000000e+00\n",
      "  0.00000000e+00  0.00000000e+00  0.00000000e+00  0.00000000e+00\n",
      "  0.00000000e+00  0.00000000e+00  0.00000000e+00  0.00000000e+00\n",
      "  0.00000000e+00  0.00000000e+00  0.00000000e+00  0.00000000e+00\n",
      "  0.00000000e+00  0.00000000e+00  0.00000000e+00  0.00000000e+00\n",
      "  0.00000000e+00  0.00000000e+00  0.00000000e+00  0.00000000e+00\n",
      "  0.00000000e+00  0.00000000e+00  0.00000000e+00  0.00000000e+00\n",
      "  0.00000000e+00  0.00000000e+00  0.00000000e+00  0.00000000e+00\n",
      "  0.00000000e+00  0.00000000e+00  0.00000000e+00  0.00000000e+00\n",
      "  0.00000000e+00  0.00000000e+00  0.00000000e+00  0.00000000e+00\n",
      "  0.00000000e+00  0.00000000e+00  0.00000000e+00  0.00000000e+00\n",
      "  0.00000000e+00  0.00000000e+00  0.00000000e+00  0.00000000e+00\n",
      "  0.00000000e+00  0.00000000e+00  0.00000000e+00  0.00000000e+00\n",
      "  0.00000000e+00  0.00000000e+00  0.00000000e+00  0.00000000e+00\n",
      "  0.00000000e+00  0.00000000e+00  0.00000000e+00  0.00000000e+00\n",
      "  0.00000000e+00  0.00000000e+00  0.00000000e+00  0.00000000e+00\n",
      "  0.00000000e+00  0.00000000e+00  0.00000000e+00  0.00000000e+00\n",
      "  0.00000000e+00  0.00000000e+00  0.00000000e+00  0.00000000e+00\n",
      "  0.00000000e+00  0.00000000e+00  0.00000000e+00  0.00000000e+00\n",
      "  0.00000000e+00  0.00000000e+00  0.00000000e+00  0.00000000e+00\n",
      "  0.00000000e+00  0.00000000e+00  0.00000000e+00  0.00000000e+00\n",
      "  0.00000000e+00  0.00000000e+00  0.00000000e+00  0.00000000e+00\n",
      "  0.00000000e+00  0.00000000e+00  0.00000000e+00  0.00000000e+00\n",
      "  0.00000000e+00  0.00000000e+00  0.00000000e+00  0.00000000e+00\n",
      " -9.21176174e-25 -5.37138572e-25 -3.75450959e-24 -1.81561592e-24\n",
      " -8.16272553e-23  3.71570616e-23  1.97696805e-22 -5.98860497e-22\n",
      "  1.91019043e-21  6.05702806e-21 -5.10120132e-19 -1.61436099e-18\n",
      " -1.28185162e-17  2.72015584e-17  5.62070753e-17 -1.72103707e-18\n",
      " -3.20642643e-19 -1.11790883e-19 -3.44899681e-21 -4.57774128e-19\n",
      " -6.78092715e-18 -1.30890262e-16 -5.83546380e-16 -1.09393601e-16\n",
      "  1.43601578e-20  2.98431648e-21  2.50169651e-21  5.61424648e-22\n",
      "  1.87917346e-26 -2.66950837e-24 -6.71155113e-24 -5.98197933e-23\n",
      " -5.84117412e-23  1.87587640e-22  1.00212708e-21 -3.83321889e-21\n",
      " -6.42709128e-20 -4.33926413e-20  1.46152346e-18  6.41287842e-18\n",
      "  2.66326099e-17 -1.86107198e-16 -1.86513296e-16 -6.74285110e-18\n",
      " -4.76967655e-19 -5.24212592e-19 -5.14487423e-19  2.17981607e-18\n",
      "  2.48379730e-17  6.16967939e-16  2.06199229e-15  4.84548875e-16\n",
      " -9.60003313e-20  5.66320623e-22  4.29130720e-20  1.41286397e-20\n",
      "  2.04915488e-23 -6.15562082e-24 -9.10395531e-24  1.61685450e-22\n",
      " -2.67060931e-22 -5.75749383e-22  2.57005846e-21  1.42376702e-20\n",
      " -1.71731145e-19  4.88321137e-21 -8.37173979e-18 -1.44961736e-17\n",
      " -1.23202222e-16  6.30491058e-16  6.27396062e-16  1.04236349e-17\n",
      " -1.94566510e-18 -6.23836925e-19 -8.11737068e-19 -1.17309371e-17\n",
      " -9.86424971e-17 -2.19820362e-15 -5.91224364e-15 -1.21281243e-15\n",
      " -1.78859878e-18 -2.84770472e-19 -3.35465153e-20 -1.17180905e-21\n",
      "  7.26977877e-23 -9.10395531e-24 -1.55395975e-22  1.54231821e-22\n",
      "  1.12665547e-21 -4.23733721e-21 -4.00814811e-20 -3.95649346e-20\n",
      "  1.81989351e-19  2.51752479e-18  2.57370631e-17  7.06537741e-17\n",
      "  4.52298492e-16 -2.19014026e-15 -2.40980713e-15  1.52832128e-16\n",
      "  2.49563415e-17  3.77850181e-18 -4.26166038e-18  3.34682298e-17\n",
      "  3.76670909e-16  8.64769131e-15  2.78063996e-14  7.34175162e-15\n",
      " -2.58873926e-18  1.07752919e-18 -6.79692049e-20 -1.00920962e-19\n",
      "  9.89988843e-23  5.58063318e-23 -2.69284652e-22 -2.26092039e-21\n",
      " -4.23956093e-21  4.12420208e-20  2.86504874e-19  4.96387774e-19\n",
      "  1.39533765e-18  3.33358474e-19 -8.50355335e-17 -3.93019013e-16\n",
      " -1.88028077e-15  8.14394778e-15  1.06771670e-14  2.62089464e-16\n",
      "  1.64497225e-16  1.80358949e-17  5.28163339e-18 -9.17843211e-17\n",
      " -1.40804114e-15  2.01209874e-14  1.17249686e-14  1.61127555e-15\n",
      "  3.36151821e-18  2.65604959e-18  2.17331908e-19 -5.59302670e-20\n",
      "  1.53265774e-22 -2.66761108e-22 -2.26259490e-21 -4.23538646e-21\n",
      "  1.41219431e-20  2.86560793e-19  9.26724067e-19  2.23228006e-19\n",
      "  1.33155960e-17  1.35075555e-17  3.21301870e-16  9.18712293e-16\n",
      "  2.15011376e-14  2.61824004e-14  3.90760490e-15 -1.26409541e-16\n",
      "  4.85274024e-16  4.55252035e-16 -1.58546547e-15  6.71440820e-15\n",
      "  3.60368675e-14  9.80000000e+01  2.24000000e+02  4.20000000e+01\n",
      "  2.51875440e-16 -1.18998826e-16  2.07525930e-18 -9.74690283e-17\n",
      "  2.00358641e-21 -9.13595828e-21  1.50596175e-21 -1.12084370e-19\n",
      "  4.46831516e-19 -5.09724361e-19  3.97731071e-18 -1.01516703e-17\n",
      "  6.33856110e-17 -3.11342446e-16 -1.36235892e-15  2.62052006e-14\n",
      "  3.00000000e+01  1.13000000e+02  7.40000000e+01  2.31575016e-15\n",
      "  4.85918386e-16  1.35256619e-15 -3.96985760e-15  1.99870129e-14\n",
      "  8.00000000e+00  2.07000000e+02  2.09000000e+02  1.67808435e-15\n",
      "  1.00885321e-15 -4.83609922e-16  8.78512296e-18 -3.67717966e-16\n",
      " -1.28988499e-22 -2.75939918e-20  2.08473856e-21 -3.26334405e-19\n",
      "  1.24904277e-18  5.34333743e-19  1.00577292e-17 -3.22546405e-17\n",
      "  3.01940664e-17 -2.06366668e-16  2.48226076e-14  3.90000000e+01\n",
      "  2.11000000e+02  2.15000000e+02  2.90000000e+01 -1.34491689e-17\n",
      "  5.58304078e-16 -1.77723601e-15  6.40609099e-15  4.19414986e-14\n",
      "  1.08000000e+02  2.54000000e+02  1.02000000e+02  2.23876707e-16\n",
      "  2.56215397e-16 -1.57597997e-16  3.81313099e-18 -8.83727488e-17\n",
      " -9.87984224e-20  3.43248646e-19 -1.26318473e-18  4.67391491e-18\n",
      " -1.88859834e-17  7.69483273e-17 -2.59606762e-16  9.62412333e-16\n",
      " -3.32201338e-15  1.59146169e-14  3.00000000e+00  1.70000000e+02\n",
      "  2.47000000e+02  4.60000000e+01 -4.00275625e-17 -6.63497261e-16\n",
      "  1.06493283e-15 -4.17129357e-15  2.31955294e-14  1.10000000e+01\n",
      "  2.13000000e+02  2.27000000e+02  1.20000000e+01  2.05865212e-16\n",
      "  1.36208663e-16  3.68464390e-17 -1.23812451e-17  9.67042097e-17\n",
      "  1.87173364e-20 -1.89558204e-19  7.93725589e-19 -2.90402899e-18\n",
      "  8.87082646e-18 -3.86508090e-17  1.26650451e-16 -5.67365911e-16\n",
      "  2.11182641e-15  3.35735649e-14  7.50000000e+01  2.54000000e+02\n",
      "  1.13000000e+02  5.80000000e+01  2.47096341e-15  2.86029307e-16\n",
      " -3.50187045e-15  1.03611112e-14  4.03141013e-14  1.40000000e+02\n",
      "  2.54000000e+02  8.10000000e+01  2.19800204e-15  3.14955609e-17\n",
      "  3.27795109e-17  2.09067993e-17 -2.34863952e-18  1.71106961e-17\n",
      "  2.74987292e-19 -1.40278821e-18  5.20741653e-18 -2.05381851e-17\n",
      "  6.54527809e-17 -2.61222259e-16  9.32598720e-16 -3.60988559e-15\n",
      "  1.38472831e-14  3.46513075e-14  1.58000000e+02  2.39000000e+02\n",
      "  9.20000000e+01  2.05000000e+02  1.13382172e-14 -1.57926946e-15\n",
      " -3.57427950e-15  2.73948104e-14  3.90000000e+01  2.51000000e+02\n",
      "  2.03000000e+02  6.00000000e+00 -7.99128675e-16  5.33077704e-16\n",
      "  1.79570409e-17  2.72338321e-17  4.51293395e-18 -2.40894155e-17\n",
      "  7.53234481e-20 -1.04258648e-18  3.86462950e-18 -1.24643676e-17\n",
      "  5.16306923e-17 -1.50690315e-16  7.10725126e-16 -2.30056026e-15\n",
      "  2.97403055e-14  4.10000000e+01  2.51000000e+02  1.66000000e+02\n",
      "  2.17000000e+02  9.80000000e+01  3.36708972e-15 -3.70169014e-15\n",
      "  1.09236027e-14  4.20274855e-14  1.45000000e+02  2.54000000e+02\n",
      "  8.80000000e+01 -1.21431563e-15 -5.44467608e-17  1.87606522e-16\n",
      " -1.44006896e-17  5.03194047e-18  1.53708230e-18 -5.54241839e-18\n",
      " -5.98521074e-19  1.92105053e-18 -8.19698826e-18  3.22763653e-17\n",
      " -1.02910717e-16  4.46153356e-16 -1.42496363e-15  5.60764071e-15\n",
      "  2.66636213e-14  9.40000000e+01  2.54000000e+02  2.54000000e+02\n",
      "  2.42000000e+02  4.00000000e+01  5.59808071e-16 -1.60715968e-15\n",
      "  2.88711150e-14  4.40000000e+01  2.46000000e+02  1.82000000e+02\n",
      "  1.04777920e-15 -8.94928859e-16  4.06817612e-16  1.43198399e-16\n",
      " -3.38177813e-18 -1.12803658e-18  2.68975404e-18  7.87888552e-18\n",
      " -1.24622182e-18  3.86988238e-18 -1.62932918e-17  5.98938221e-17\n",
      " -2.18945188e-16  8.22825824e-16 -3.08623590e-15  1.15535166e-14\n",
      "  2.76092800e-14  1.33000000e+02  2.54000000e+02  2.54000000e+02\n",
      "  1.07000000e+02  3.40619787e-15 -3.72925254e-15  1.43792857e-14\n",
      "  5.00000000e+00  1.75000000e+02  2.40000000e+02  5.70000000e+01\n",
      " -1.08525062e-15 -2.95284542e-16  3.42377027e-17  2.74409121e-17\n",
      " -7.92989051e-18 -4.80283653e-19  8.52147089e-19  7.30877629e-19\n",
      " -2.87018873e-18  7.93470696e-18 -3.23380861e-17  1.13611382e-16\n",
      " -4.81955401e-16  1.49762319e-15 -6.32732683e-15  2.40954276e-14\n",
      "  3.56851284e-14  2.17000000e+02  2.54000000e+02  2.12000000e+02\n",
      "  1.80000000e+01  5.04064552e-16  1.83062282e-15  2.74951211e-14\n",
      "  7.10000000e+01  2.54000000e+02  1.61000000e+02  3.36327315e-15\n",
      "  1.06238888e-15  7.89540807e-17  2.35163428e-17 -1.21605329e-17\n",
      " -4.06939612e-18  1.54680708e-18  3.21622676e-19 -1.42383496e-18\n",
      " -1.26924268e-18  5.16349941e-18 -1.57526777e-17  6.24008605e-17\n",
      " -2.53800084e-16  9.05961942e-16 -3.18269755e-15  2.67983226e-14\n",
      "  2.80000000e+01  2.51000000e+02  2.33000000e+02  4.70000000e+01\n",
      "  5.78102802e-15 -7.44210466e-15  2.17958781e-14  4.22238701e-14\n",
      "  2.32000000e+02  2.23000000e+02  1.00000000e+01 -1.19227835e-15\n",
      "  3.35614776e-16 -2.10613075e-16 -7.10896659e-17 -1.58228412e-17\n",
      "  9.98359792e-19  1.18307122e-19 -2.26873366e-19  4.76631184e-19\n",
      "  9.12252528e-19 -2.11055683e-18  8.74970224e-18 -2.74672413e-17\n",
      "  1.21068583e-16 -3.89152874e-16  1.78248761e-15  2.89769953e-14\n",
      "  7.00000000e+01  2.54000000e+02  1.38000000e+02  2.82927566e-14\n",
      "  2.67219528e-14  7.58041982e-15  3.42272917e-14  3.80000000e+01\n",
      "  2.51000000e+02  1.00000000e+02 -1.27988141e-15  3.05499970e-17\n",
      "  2.53736524e-17 -7.46485595e-17 -1.09324822e-17 -1.17300327e-18\n",
      "  1.58897420e-19  8.31816157e-20 -3.42260916e-20  1.38426045e-19\n",
      " -1.16086049e-18  4.35048904e-18 -1.71355625e-17  5.62770850e-17\n",
      " -2.31825225e-16  8.02502239e-16 -3.10308382e-15  2.72513927e-14\n",
      "  3.00000000e+01  2.50000000e+02  2.29000000e+02  1.05000000e+02\n",
      "  7.00000000e+01  1.90000000e+01  4.94447860e-14  1.90000000e+02\n",
      "  2.11000000e+02  1.25299348e-14  1.44270807e-15  4.31052634e-16\n",
      " -1.23691505e-16  3.96277722e-17  1.41684986e-17  4.66943777e-18\n",
      "  7.03611204e-19  1.07286255e-19  3.19140768e-20 -1.70568059e-19\n",
      " -1.34989578e-18  4.96162457e-18 -1.71074685e-17  6.48235020e-17\n",
      " -2.46523348e-16  9.34713998e-16 -3.53223128e-15  1.24363335e-14\n",
      "  2.30634116e-14  1.44000000e+02  2.54000000e+02  2.54000000e+02\n",
      "  2.54000000e+02  1.36000000e+02  8.60000000e+01  2.47000000e+02\n",
      "  1.15000000e+02  1.30000000e+01 -1.40644194e-15 -1.45912496e-16\n",
      " -8.19883519e-17 -1.96687391e-18 -1.68829640e-17  1.08483875e-19\n",
      " -3.09999531e-20  4.26050309e-20  9.09727913e-20  7.96185798e-23\n",
      " -1.32387255e-19 -1.34112255e-19  1.07371802e-18 -1.66709484e-18\n",
      "  8.71174259e-18 -2.21210133e-17  1.27477206e-16 -4.93336043e-16\n",
      "  1.29807123e-14  2.30000000e+01  1.21000000e+02  1.38000000e+02\n",
      "  1.88000000e+02  2.44000000e+02  2.54000000e+02  2.54000000e+02\n",
      "  2.52000000e+02  1.53000000e+02 -4.42069021e-15 -1.21991941e-15\n",
      " -3.90507301e-16  2.73466725e-17 -4.46678559e-17 -1.19015359e-17\n",
      " -2.21956861e-19  1.95681725e-19  2.76098512e-19  4.10930782e-19\n",
      " -3.30733748e-20 -5.72353722e-21 -1.02215879e-19 -3.24872709e-19\n",
      " -2.75553099e-18 -5.25017120e-19 -9.78112986e-18  5.81765189e-17\n",
      " -4.18769654e-16  1.33607014e-15  1.66365410e-15  1.25434403e-14\n",
      "  4.02082288e-14  1.38000000e+02  2.54000000e+02  1.74000000e+02\n",
      "  3.50000000e+01 -3.46402548e-15  5.37543277e-16  8.43091405e-17\n",
      " -9.00609569e-17  3.37951121e-17  7.21654020e-18 -2.88116946e-18\n",
      " -4.35258002e-19  1.46478234e-19  1.28865941e-19  2.28841420e-20\n",
      " -1.12970778e-20  3.16600490e-20 -1.25586923e-19  3.32144816e-19\n",
      " -2.36903907e-18  4.90376453e-18 -3.59129312e-17  6.46113972e-17\n",
      " -5.04878072e-16  9.83417243e-16 -2.92026194e-15  2.02556921e-14\n",
      "  5.00000000e+00  2.09000000e+02  2.18000000e+02  9.00000000e+00\n",
      "  6.09204118e-15 -8.38959755e-16  1.45415144e-16  9.19756762e-17\n",
      "  3.59964292e-17  1.58274323e-17  3.71440246e-18  5.70498747e-19\n",
      " -4.48338830e-21  7.08513629e-20  2.17746331e-20 -2.09583286e-21\n",
      "  7.79239764e-21 -3.60824689e-20  1.24255500e-19 -4.72797994e-19\n",
      "  1.80081779e-18 -6.43231758e-18  2.27358301e-17 -9.24771619e-17\n",
      "  3.51081994e-16 -1.28977234e-15  4.96416201e-15  3.00253176e-14\n",
      "  9.50000000e+01  2.54000000e+02  9.10000000e+01  4.56731733e-16\n",
      "  5.14312954e-16 -9.09052998e-16 -1.30123957e-16  1.81230850e-17\n",
      "  1.26508867e-17  1.44567985e-18  1.39857400e-19  6.58793640e-20\n",
      "  3.70814756e-20  1.32229977e-20  2.35312473e-21 -1.77731032e-21]\n"
     ]
    }
   ],
   "source": [
    "print(shifted_image_down)"
   ]
  },
  {
   "cell_type": "code",
   "execution_count": null,
   "id": "32aa555d",
   "metadata": {},
   "outputs": [],
   "source": []
  }
 ],
 "metadata": {
  "kernelspec": {
   "display_name": "Python 3",
   "language": "python",
   "name": "python3"
  },
  "language_info": {
   "codemirror_mode": {
    "name": "ipython",
    "version": 3
   },
   "file_extension": ".py",
   "mimetype": "text/x-python",
   "name": "python",
   "nbconvert_exporter": "python",
   "pygments_lexer": "ipython3",
   "version": "3.9.10 (tags/v3.9.10:f2f3f53, Jan 17 2022, 15:14:21) [MSC v.1929 64 bit (AMD64)]"
  },
  "vscode": {
   "interpreter": {
    "hash": "fbbb613cea6c933ff99288f10da45497f650ade02e080cbd2533813106fea462"
   }
  }
 },
 "nbformat": 4,
 "nbformat_minor": 5
}
